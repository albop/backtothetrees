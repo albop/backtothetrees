{
 "cells": [
  {
   "cell_type": "code",
   "execution_count": 5,
   "metadata": {
    "collapsed": false
   },
   "outputs": [],
   "source": [
    "import numpy as np"
   ]
  },
  {
   "cell_type": "code",
   "execution_count": 6,
   "metadata": {
    "collapsed": false
   },
   "outputs": [],
   "source": [
    "\n",
    "def draw_graph(graph, pos=None):\n",
    "    from numpy import array\n",
    "    import networkx as nx\n",
    "    import bqplot as bq\n",
    "\n",
    "    if pos is None:\n",
    "        pos = nx.spring_layout(graph)\n",
    "    nodes = graph.nodes()\n",
    "    x = [pos[n][0] for n in nodes]\n",
    "    y = [pos[n][1] for n in nodes]\n",
    "    lines_x = []\n",
    "    lines_y = []\n",
    "    for k,v in graph.edges():\n",
    "        i1 = graph.nodes().index(k)\n",
    "        i2 = graph.nodes().index(v)\n",
    "        lines_x.append([x[i1], x[i2]])\n",
    "        lines_y.append([y[i1], y[i2]])\n",
    "    lines_x = array(lines_x)\n",
    "    lines_y = array(lines_y)\n",
    "\n",
    "    x_sc = bq.LinearScale()\n",
    "    y_sc = bq.LinearScale()\n",
    "    points = bq.Scatter(x=x, y=y, scales={'x': x_sc, 'y': y_sc})\n",
    "    lines = bq.Lines(x=lines_x,y=lines_y, scales={'x': x_sc, 'y': y_sc}, colors=['red'])\n",
    "    ax_x = bq.Axis(scale=x_sc)\n",
    "    ax_y = bq.Axis(scale=y_sc, orientation='vertical')\n",
    "    fig = bq.Figure(marks=[lines,points], axes=[ax_x, ax_y])\n",
    "    return fig\n"
   ]
  },
  {
   "cell_type": "code",
   "execution_count": 7,
   "metadata": {
    "collapsed": false
   },
   "outputs": [],
   "source": [
    "graph = nx.cubical_graph()\n",
    "draw_graph(graph)"
   ]
  },
  {
   "cell_type": "code",
   "execution_count": 9,
   "metadata": {
    "collapsed": true
   },
   "outputs": [],
   "source": [
    "import networkx as nx\n",
    "layout = nx.circular_layout(graph)\n",
    "draw_graph(graph, layout)"
   ]
  }
 ],
 "metadata": {
  "kernelspec": {
   "display_name": "Python 3",
   "language": "python",
   "name": "python3"
  },
  "language_info": {
   "codemirror_mode": {
    "name": "ipython",
    "version": 3
   },
   "file_extension": ".py",
   "mimetype": "text/x-python",
   "name": "python",
   "nbconvert_exporter": "python",
   "pygments_lexer": "ipython3",
   "version": "3.4.4"
  }
 },
 "nbformat": 4,
 "nbformat_minor": 0
}
